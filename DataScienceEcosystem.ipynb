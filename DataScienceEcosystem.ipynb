{
 "cells": [
  {
   "cell_type": "markdown",
   "id": "b4cef2e7",
   "metadata": {},
   "source": [
    "<h1>Data Science Tools and Ecosystem<h1>"
   ]
  },
  {
   "cell_type": "markdown",
   "id": "1405c243",
   "metadata": {},
   "source": [
    "In this notebook, Data Science Tools and Ecosystem are summarized."
   ]
  },
  {
   "cell_type": "markdown",
   "id": "48777eed",
   "metadata": {},
   "source": [
    "**Some of the popular languages that Data Scientists use are:**\n",
    " - R programming\n",
    " - python\n",
    " - java"
   ]
  },
  {
   "cell_type": "markdown",
   "id": "21c5c46b",
   "metadata": {},
   "source": [
    "**Some of the commonly used libraries used by Data Scientists include:**\n",
    "\n",
    "1. NumPy\n",
    "2. Pandas\n",
    "3. Matplotlib\n",
    "4. Scikit-learn\n",
    "5. TensorFlow\n"
   ]
  },
  {
   "cell_type": "markdown",
   "id": "60f85762",
   "metadata": {},
   "source": [
    "| Data Science Tools |\n",
    "|---------------------|\n",
    "| Jupyter Notebook   |\n",
    "| RStudio             |\n",
    "| VS Code + Extensions|\n"
   ]
  },
  {
   "cell_type": "markdown",
   "id": "37ec7e1c",
   "metadata": {},
   "source": [
    "<H3>Below are a few examples of evaluating arithmetic expressions in Python<H3>"
   ]
  },
  {
   "cell_type": "code",
   "execution_count": 1,
   "id": "e6739eaa",
   "metadata": {},
   "outputs": [
    {
     "data": {
      "text/plain": [
       "17"
      ]
     },
     "execution_count": 1,
     "metadata": {},
     "output_type": "execute_result"
    }
   ],
   "source": [
    "# This is a simple arithmetic expression to multiply then add integers.\n",
    "result = (3 * 4) + 5\n",
    "result"
   ]
  },
  {
   "cell_type": "markdown",
   "id": "57c5f425",
   "metadata": {},
   "source": [
    "#In this notebook, Data Science Tools and Ecosystem are summarized."
   ]
  },
  {
   "cell_type": "markdown",
   "id": "bdb6f404",
   "metadata": {},
   "source": [
    "Some of the popular languages that Data Scientists use are:\n",
    "orderedlist:\n",
    " R programming\n",
    " python\n",
    " java"
   ]
  },
  {
   "cell_type": "code",
   "execution_count": 2,
   "id": "4693ce91",
   "metadata": {},
   "outputs": [
    {
     "data": {
      "text/plain": [
       "3.3333333333333335"
      ]
     },
     "execution_count": 2,
     "metadata": {},
     "output_type": "execute_result"
    }
   ],
   "source": [
    "# This will convert 200 minutes to hours by dividing by 60.\n",
    "minutes = 200\n",
    "hours = minutes / 60\n",
    "hours"
   ]
  },
  {
   "cell_type": "markdown",
   "id": "9ee17d7f",
   "metadata": {},
   "source": [
    "**Objectives:**\n",
    "\n",
    "- List popular languages for Data Science.\n",
    "- Explain the basic arithmetic operations in Python.\n",
    "- Convert units (minutes to hours) using Python expressions.\n",
    "- Introduce common development environments for Data Science.\n",
    "- Showcase the usage of Markdown in Jupyter Notebook.\n"
   ]
  },
  {
   "cell_type": "markdown",
   "id": "0e9840be",
   "metadata": {},
   "source": [
    "**Objectives:**\n",
    "\n",
    "- List popular languages for Data Science.\n",
    "- Explain the basic arithmetic operations in Python.\n",
    "- Convert units (minutes to hours) using Python expressions.\n",
    "- Introduce common development environments for Data Science.\n",
    "- Showcase the usage of Markdown in Jupyter Notebook."
   ]
  },
  {
   "cell_type": "markdown",
   "id": "676449b5",
   "metadata": {},
   "source": [
    "## Author\n",
    "\n",
    "Rajesh\n"
   ]
  },
  {
   "cell_type": "code",
   "execution_count": null,
   "id": "6efc22d3",
   "metadata": {},
   "outputs": [],
   "source": []
  }
 ],
 "metadata": {
  "kernelspec": {
   "display_name": "Python 3 (ipykernel)",
   "language": "python",
   "name": "python3"
  },
  "language_info": {
   "codemirror_mode": {
    "name": "ipython",
    "version": 3
   },
   "file_extension": ".py",
   "mimetype": "text/x-python",
   "name": "python",
   "nbconvert_exporter": "python",
   "pygments_lexer": "ipython3",
   "version": "3.11.3"
  }
 },
 "nbformat": 4,
 "nbformat_minor": 5
}
